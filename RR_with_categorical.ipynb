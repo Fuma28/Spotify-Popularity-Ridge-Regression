{
 "cells": [
  {
   "cell_type": "code",
   "execution_count": 1,
   "id": "fd431862",
   "metadata": {},
   "outputs": [],
   "source": [
    "import pandas as pd\n",
    "import numpy as np\n",
    "import matplotlib.pyplot as plt\n",
    "import warnings\n",
    "warnings.simplefilter(action='ignore', category=pd.errors.PerformanceWarning)\n",
    "from sklearn.model_selection import train_test_split\n",
    "%matplotlib inline"
   ]
  },
  {
   "cell_type": "code",
   "execution_count": 2,
   "id": "1ca21529",
   "metadata": {},
   "outputs": [],
   "source": [
    "dataset = pd.read_csv('dataset.csv')\n",
    "dataset = dataset.dropna()\n",
    "dataset = dataset.drop(columns = 'Unnamed: 0')\n",
    "dataset = dataset.drop_duplicates()"
   ]
  },
  {
   "cell_type": "markdown",
   "id": "fcfd9cfb",
   "metadata": {},
   "source": [
    "Firstly we encode the 'track_genre' feature, using firstly a one hot encoder and the grouping by 'track_id' and summing the coulumns just generated."
   ]
  },
  {
   "cell_type": "code",
   "execution_count": 3,
   "id": "c69afdf5",
   "metadata": {},
   "outputs": [],
   "source": [
    "from sklearn.preprocessing import OneHotEncoder\n",
    "ohe = OneHotEncoder()\n",
    "genres = dataset.track_genre.unique().tolist()\n",
    "temp = dataset[['track_id', 'track_genre']].copy()\n",
    "transformed = ohe.fit_transform(temp[['track_genre']])\n",
    "temp[ohe.categories_[0]] = transformed.toarray()\n",
    "temp = temp.drop(columns = 'track_genre')\n",
    "temp = temp.groupby('track_id').sum()\n",
    "dataset = pd.merge(dataset, temp, on = 'track_id')\n",
    "dataset = dataset.drop('track_genre', axis = 1)\n",
    "dataset = dataset.drop_duplicates()"
   ]
  },
  {
   "cell_type": "markdown",
   "id": "93fb3966",
   "metadata": {},
   "source": [
    "Then we encode the 'key' feature using one hot encoding"
   ]
  },
  {
   "cell_type": "code",
   "execution_count": 4,
   "id": "45b802ed",
   "metadata": {},
   "outputs": [],
   "source": [
    "transformed = ohe.fit_transform(dataset[['key']])\n",
    "dataset[ohe.get_feature_names_out()] = transformed.toarray()\n",
    "dataset = dataset.drop('key', axis = 1)"
   ]
  },
  {
   "cell_type": "markdown",
   "id": "46115d85",
   "metadata": {},
   "source": [
    "And lastly we encode the 'time signature' feature using one hot encoding"
   ]
  },
  {
   "cell_type": "code",
   "execution_count": 5,
   "id": "332fd95d",
   "metadata": {},
   "outputs": [],
   "source": [
    "transformed = ohe.fit_transform(dataset[['time_signature']])\n",
    "dataset[ohe.get_feature_names_out()] = transformed.toarray()\n",
    "dataset = dataset.drop('time_signature', axis = 1)"
   ]
  },
  {
   "cell_type": "markdown",
   "id": "ed0050da",
   "metadata": {},
   "source": [
    "We notice that given a title and an artist there are a lot of copies of the same song, differenciated by album and popularity, probably due to some repack or compilation. Here an example."
   ]
  },
  {
   "cell_type": "code",
   "execution_count": 6,
   "id": "b39a4874",
   "metadata": {
    "scrolled": true
   },
   "outputs": [
    {
     "data": {
      "text/html": [
       "<div>\n",
       "<style scoped>\n",
       "    .dataframe tbody tr th:only-of-type {\n",
       "        vertical-align: middle;\n",
       "    }\n",
       "\n",
       "    .dataframe tbody tr th {\n",
       "        vertical-align: top;\n",
       "    }\n",
       "\n",
       "    .dataframe thead th {\n",
       "        text-align: right;\n",
       "    }\n",
       "</style>\n",
       "<table border=\"1\" class=\"dataframe\">\n",
       "  <thead>\n",
       "    <tr style=\"text-align: right;\">\n",
       "      <th></th>\n",
       "      <th>artists</th>\n",
       "      <th>album_name</th>\n",
       "      <th>popularity</th>\n",
       "    </tr>\n",
       "  </thead>\n",
       "  <tbody>\n",
       "    <tr>\n",
       "      <th>11097</th>\n",
       "      <td>Ella Fitzgerald</td>\n",
       "      <td>CHRISTMAS TOP HITS 2022</td>\n",
       "      <td>0</td>\n",
       "    </tr>\n",
       "    <tr>\n",
       "      <th>11099</th>\n",
       "      <td>Ella Fitzgerald</td>\n",
       "      <td>Rockin' Around The Christmas Tree 2022</td>\n",
       "      <td>0</td>\n",
       "    </tr>\n",
       "    <tr>\n",
       "      <th>11120</th>\n",
       "      <td>Ella Fitzgerald</td>\n",
       "      <td>World's Best Christmas Playlist</td>\n",
       "      <td>0</td>\n",
       "    </tr>\n",
       "    <tr>\n",
       "      <th>11125</th>\n",
       "      <td>Ella Fitzgerald</td>\n",
       "      <td>Santa Claus Is Coming To Town</td>\n",
       "      <td>0</td>\n",
       "    </tr>\n",
       "    <tr>\n",
       "      <th>11157</th>\n",
       "      <td>Ella Fitzgerald</td>\n",
       "      <td>Christmas Songs 2022</td>\n",
       "      <td>4</td>\n",
       "    </tr>\n",
       "    <tr>\n",
       "      <th>11161</th>\n",
       "      <td>Ella Fitzgerald</td>\n",
       "      <td>All I Want For Christmas Is You</td>\n",
       "      <td>0</td>\n",
       "    </tr>\n",
       "    <tr>\n",
       "      <th>11163</th>\n",
       "      <td>Ella Fitzgerald</td>\n",
       "      <td>Christmas Classics</td>\n",
       "      <td>0</td>\n",
       "    </tr>\n",
       "    <tr>\n",
       "      <th>11167</th>\n",
       "      <td>Ella Fitzgerald</td>\n",
       "      <td>Rock Christmas 2022 - The Very Best Of</td>\n",
       "      <td>0</td>\n",
       "    </tr>\n",
       "    <tr>\n",
       "      <th>11169</th>\n",
       "      <td>Ella Fitzgerald</td>\n",
       "      <td>Holidays Are Coming</td>\n",
       "      <td>0</td>\n",
       "    </tr>\n",
       "    <tr>\n",
       "      <th>11177</th>\n",
       "      <td>Ella Fitzgerald</td>\n",
       "      <td>Christmas Best Hits 2022</td>\n",
       "      <td>0</td>\n",
       "    </tr>\n",
       "    <tr>\n",
       "      <th>11179</th>\n",
       "      <td>Ella Fitzgerald</td>\n",
       "      <td>Christmas Dinner 2022</td>\n",
       "      <td>0</td>\n",
       "    </tr>\n",
       "    <tr>\n",
       "      <th>11181</th>\n",
       "      <td>Ella Fitzgerald</td>\n",
       "      <td>Christmas Eve At Home</td>\n",
       "      <td>0</td>\n",
       "    </tr>\n",
       "    <tr>\n",
       "      <th>11183</th>\n",
       "      <td>Ella Fitzgerald</td>\n",
       "      <td>Beste Weihnachtslieder</td>\n",
       "      <td>0</td>\n",
       "    </tr>\n",
       "    <tr>\n",
       "      <th>11185</th>\n",
       "      <td>Ella Fitzgerald</td>\n",
       "      <td>Best Christmas Playlist Ever 2022</td>\n",
       "      <td>0</td>\n",
       "    </tr>\n",
       "    <tr>\n",
       "      <th>11189</th>\n",
       "      <td>Ella Fitzgerald</td>\n",
       "      <td>Home For Christmas 2022</td>\n",
       "      <td>0</td>\n",
       "    </tr>\n",
       "    <tr>\n",
       "      <th>11191</th>\n",
       "      <td>Ella Fitzgerald</td>\n",
       "      <td>Weihnachten Musik</td>\n",
       "      <td>0</td>\n",
       "    </tr>\n",
       "    <tr>\n",
       "      <th>11217</th>\n",
       "      <td>Ella Fitzgerald</td>\n",
       "      <td>Weihnachtslieder 2022</td>\n",
       "      <td>0</td>\n",
       "    </tr>\n",
       "    <tr>\n",
       "      <th>11241</th>\n",
       "      <td>Ella Fitzgerald</td>\n",
       "      <td>Holiday Favorites 2022</td>\n",
       "      <td>0</td>\n",
       "    </tr>\n",
       "    <tr>\n",
       "      <th>11253</th>\n",
       "      <td>Ella Fitzgerald</td>\n",
       "      <td>pov: you bake cookies</td>\n",
       "      <td>0</td>\n",
       "    </tr>\n",
       "    <tr>\n",
       "      <th>11261</th>\n",
       "      <td>Ella Fitzgerald</td>\n",
       "      <td>Jingle Bell Rock 2022</td>\n",
       "      <td>2</td>\n",
       "    </tr>\n",
       "    <tr>\n",
       "      <th>11265</th>\n",
       "      <td>Ella Fitzgerald</td>\n",
       "      <td>12 Days of Christmas 2022</td>\n",
       "      <td>0</td>\n",
       "    </tr>\n",
       "    <tr>\n",
       "      <th>11269</th>\n",
       "      <td>Ella Fitzgerald</td>\n",
       "      <td>pov: you are walking in a winter wonderland</td>\n",
       "      <td>0</td>\n",
       "    </tr>\n",
       "    <tr>\n",
       "      <th>11279</th>\n",
       "      <td>Ella Fitzgerald</td>\n",
       "      <td>Christmas 2022</td>\n",
       "      <td>0</td>\n",
       "    </tr>\n",
       "    <tr>\n",
       "      <th>11281</th>\n",
       "      <td>Ella Fitzgerald</td>\n",
       "      <td>pov: you have a holly jolly christmas</td>\n",
       "      <td>0</td>\n",
       "    </tr>\n",
       "    <tr>\n",
       "      <th>11285</th>\n",
       "      <td>Ella Fitzgerald</td>\n",
       "      <td>Weihnachten Playlist</td>\n",
       "      <td>0</td>\n",
       "    </tr>\n",
       "    <tr>\n",
       "      <th>11287</th>\n",
       "      <td>Ella Fitzgerald</td>\n",
       "      <td>The Very Best Christmas Songs 2022</td>\n",
       "      <td>0</td>\n",
       "    </tr>\n",
       "    <tr>\n",
       "      <th>11291</th>\n",
       "      <td>Ella Fitzgerald</td>\n",
       "      <td>Home At Christmas</td>\n",
       "      <td>0</td>\n",
       "    </tr>\n",
       "    <tr>\n",
       "      <th>11299</th>\n",
       "      <td>Ella Fitzgerald</td>\n",
       "      <td>Classic Christmas Music 2022</td>\n",
       "      <td>0</td>\n",
       "    </tr>\n",
       "    <tr>\n",
       "      <th>11301</th>\n",
       "      <td>Ella Fitzgerald</td>\n",
       "      <td>Christmas Playlist 2022</td>\n",
       "      <td>0</td>\n",
       "    </tr>\n",
       "    <tr>\n",
       "      <th>11303</th>\n",
       "      <td>Ella Fitzgerald</td>\n",
       "      <td>Pop Fun and Christmas Music 2022</td>\n",
       "      <td>0</td>\n",
       "    </tr>\n",
       "    <tr>\n",
       "      <th>11311</th>\n",
       "      <td>Ella Fitzgerald</td>\n",
       "      <td>Weihnachtssongs</td>\n",
       "      <td>0</td>\n",
       "    </tr>\n",
       "    <tr>\n",
       "      <th>11441</th>\n",
       "      <td>Ella Fitzgerald</td>\n",
       "      <td>All I want For Christmas Is Music</td>\n",
       "      <td>0</td>\n",
       "    </tr>\n",
       "    <tr>\n",
       "      <th>11443</th>\n",
       "      <td>Ella Fitzgerald</td>\n",
       "      <td>Silent Night</td>\n",
       "      <td>0</td>\n",
       "    </tr>\n",
       "    <tr>\n",
       "      <th>11445</th>\n",
       "      <td>Ella Fitzgerald</td>\n",
       "      <td>Holiday Anthems 2022</td>\n",
       "      <td>0</td>\n",
       "    </tr>\n",
       "    <tr>\n",
       "      <th>74530</th>\n",
       "      <td>Cooltime Kids</td>\n",
       "      <td>Oh Santa! Kids Christmas Songs</td>\n",
       "      <td>0</td>\n",
       "    </tr>\n",
       "    <tr>\n",
       "      <th>104780</th>\n",
       "      <td>The Jackson 5</td>\n",
       "      <td>pov: you rock around the christmas tree</td>\n",
       "      <td>0</td>\n",
       "    </tr>\n",
       "    <tr>\n",
       "      <th>104787</th>\n",
       "      <td>The Jackson 5</td>\n",
       "      <td>12 Days of Christmas 2022</td>\n",
       "      <td>0</td>\n",
       "    </tr>\n",
       "    <tr>\n",
       "      <th>104795</th>\n",
       "      <td>The Jackson 5</td>\n",
       "      <td>pov: you are walking in a winter wonderland</td>\n",
       "      <td>0</td>\n",
       "    </tr>\n",
       "    <tr>\n",
       "      <th>104812</th>\n",
       "      <td>The Jackson 5</td>\n",
       "      <td>World's Best Christmas Playlist</td>\n",
       "      <td>0</td>\n",
       "    </tr>\n",
       "    <tr>\n",
       "      <th>104817</th>\n",
       "      <td>The Jackson 5</td>\n",
       "      <td>pov: you saw mommy kissing santa claus</td>\n",
       "      <td>0</td>\n",
       "    </tr>\n",
       "    <tr>\n",
       "      <th>104827</th>\n",
       "      <td>The Jackson 5</td>\n",
       "      <td>Xmas Classics 2022</td>\n",
       "      <td>0</td>\n",
       "    </tr>\n",
       "    <tr>\n",
       "      <th>104831</th>\n",
       "      <td>The Jackson 5</td>\n",
       "      <td>A Very 70s Christmas</td>\n",
       "      <td>0</td>\n",
       "    </tr>\n",
       "    <tr>\n",
       "      <th>104845</th>\n",
       "      <td>The Jackson 5</td>\n",
       "      <td>Soulful Christmas</td>\n",
       "      <td>0</td>\n",
       "    </tr>\n",
       "    <tr>\n",
       "      <th>104846</th>\n",
       "      <td>The Jackson 5</td>\n",
       "      <td>Christmas Soul Classics</td>\n",
       "      <td>0</td>\n",
       "    </tr>\n",
       "    <tr>\n",
       "      <th>104869</th>\n",
       "      <td>The Jackson 5</td>\n",
       "      <td>Weihnachten Playlist</td>\n",
       "      <td>0</td>\n",
       "    </tr>\n",
       "  </tbody>\n",
       "</table>\n",
       "</div>"
      ],
      "text/plain": [
       "                artists                                   album_name  \\\n",
       "11097   Ella Fitzgerald                      CHRISTMAS TOP HITS 2022   \n",
       "11099   Ella Fitzgerald       Rockin' Around The Christmas Tree 2022   \n",
       "11120   Ella Fitzgerald              World's Best Christmas Playlist   \n",
       "11125   Ella Fitzgerald                Santa Claus Is Coming To Town   \n",
       "11157   Ella Fitzgerald                         Christmas Songs 2022   \n",
       "11161   Ella Fitzgerald              All I Want For Christmas Is You   \n",
       "11163   Ella Fitzgerald                           Christmas Classics   \n",
       "11167   Ella Fitzgerald       Rock Christmas 2022 - The Very Best Of   \n",
       "11169   Ella Fitzgerald                          Holidays Are Coming   \n",
       "11177   Ella Fitzgerald                     Christmas Best Hits 2022   \n",
       "11179   Ella Fitzgerald                        Christmas Dinner 2022   \n",
       "11181   Ella Fitzgerald                        Christmas Eve At Home   \n",
       "11183   Ella Fitzgerald                       Beste Weihnachtslieder   \n",
       "11185   Ella Fitzgerald            Best Christmas Playlist Ever 2022   \n",
       "11189   Ella Fitzgerald                      Home For Christmas 2022   \n",
       "11191   Ella Fitzgerald                            Weihnachten Musik   \n",
       "11217   Ella Fitzgerald                        Weihnachtslieder 2022   \n",
       "11241   Ella Fitzgerald                       Holiday Favorites 2022   \n",
       "11253   Ella Fitzgerald                        pov: you bake cookies   \n",
       "11261   Ella Fitzgerald                        Jingle Bell Rock 2022   \n",
       "11265   Ella Fitzgerald                    12 Days of Christmas 2022   \n",
       "11269   Ella Fitzgerald  pov: you are walking in a winter wonderland   \n",
       "11279   Ella Fitzgerald                               Christmas 2022   \n",
       "11281   Ella Fitzgerald        pov: you have a holly jolly christmas   \n",
       "11285   Ella Fitzgerald                         Weihnachten Playlist   \n",
       "11287   Ella Fitzgerald           The Very Best Christmas Songs 2022   \n",
       "11291   Ella Fitzgerald                            Home At Christmas   \n",
       "11299   Ella Fitzgerald                 Classic Christmas Music 2022   \n",
       "11301   Ella Fitzgerald                      Christmas Playlist 2022   \n",
       "11303   Ella Fitzgerald             Pop Fun and Christmas Music 2022   \n",
       "11311   Ella Fitzgerald                              Weihnachtssongs   \n",
       "11441   Ella Fitzgerald            All I want For Christmas Is Music   \n",
       "11443   Ella Fitzgerald                                 Silent Night   \n",
       "11445   Ella Fitzgerald                         Holiday Anthems 2022   \n",
       "74530     Cooltime Kids               Oh Santa! Kids Christmas Songs   \n",
       "104780    The Jackson 5      pov: you rock around the christmas tree   \n",
       "104787    The Jackson 5                    12 Days of Christmas 2022   \n",
       "104795    The Jackson 5  pov: you are walking in a winter wonderland   \n",
       "104812    The Jackson 5              World's Best Christmas Playlist   \n",
       "104817    The Jackson 5       pov: you saw mommy kissing santa claus   \n",
       "104827    The Jackson 5                           Xmas Classics 2022   \n",
       "104831    The Jackson 5                         A Very 70s Christmas   \n",
       "104845    The Jackson 5                            Soulful Christmas   \n",
       "104846    The Jackson 5                      Christmas Soul Classics   \n",
       "104869    The Jackson 5                         Weihnachten Playlist   \n",
       "\n",
       "        popularity  \n",
       "11097            0  \n",
       "11099            0  \n",
       "11120            0  \n",
       "11125            0  \n",
       "11157            4  \n",
       "11161            0  \n",
       "11163            0  \n",
       "11167            0  \n",
       "11169            0  \n",
       "11177            0  \n",
       "11179            0  \n",
       "11181            0  \n",
       "11183            0  \n",
       "11185            0  \n",
       "11189            0  \n",
       "11191            0  \n",
       "11217            0  \n",
       "11241            0  \n",
       "11253            0  \n",
       "11261            2  \n",
       "11265            0  \n",
       "11269            0  \n",
       "11279            0  \n",
       "11281            0  \n",
       "11285            0  \n",
       "11287            0  \n",
       "11291            0  \n",
       "11299            0  \n",
       "11301            0  \n",
       "11303            0  \n",
       "11311            0  \n",
       "11441            0  \n",
       "11443            0  \n",
       "11445            0  \n",
       "74530            0  \n",
       "104780           0  \n",
       "104787           0  \n",
       "104795           0  \n",
       "104812           0  \n",
       "104817           0  \n",
       "104827           0  \n",
       "104831           0  \n",
       "104845           0  \n",
       "104846           0  \n",
       "104869           0  "
      ]
     },
     "execution_count": 6,
     "metadata": {},
     "output_type": "execute_result"
    }
   ],
   "source": [
    "dataset[dataset.track_name == \"Frosty The Snowman\"][['artists', 'album_name', 'popularity']]"
   ]
  },
  {
   "cell_type": "markdown",
   "id": "048eb816",
   "metadata": {},
   "source": [
    "This is a behavior difficult to learn by our model also given the fact the the only difference (the album feature) is a string so we decide to get rid of the 'album_name' feature keeping only the record with the higher popularity"
   ]
  },
  {
   "cell_type": "code",
   "execution_count": 7,
   "id": "c43d5a2d",
   "metadata": {},
   "outputs": [],
   "source": [
    "idx = dataset.groupby(['track_name', 'artists'])['popularity'].transform(max) == dataset['popularity']\n",
    "dataset = dataset[idx]"
   ]
  },
  {
   "cell_type": "code",
   "execution_count": 8,
   "id": "a82166df",
   "metadata": {},
   "outputs": [],
   "source": [
    "dataset = dataset.drop('album_name', axis = 1)\n",
    "dataset = dataset.drop('track_id', axis = 1)\n",
    "dataset = dataset.drop_duplicates()"
   ]
  },
  {
   "cell_type": "code",
   "execution_count": 9,
   "id": "c75d6f11",
   "metadata": {},
   "outputs": [
    {
     "data": {
      "text/html": [
       "<div>\n",
       "<style scoped>\n",
       "    .dataframe tbody tr th:only-of-type {\n",
       "        vertical-align: middle;\n",
       "    }\n",
       "\n",
       "    .dataframe tbody tr th {\n",
       "        vertical-align: top;\n",
       "    }\n",
       "\n",
       "    .dataframe thead th {\n",
       "        text-align: right;\n",
       "    }\n",
       "</style>\n",
       "<table border=\"1\" class=\"dataframe\">\n",
       "  <thead>\n",
       "    <tr style=\"text-align: right;\">\n",
       "      <th></th>\n",
       "      <th>artists</th>\n",
       "      <th>popularity</th>\n",
       "    </tr>\n",
       "  </thead>\n",
       "  <tbody>\n",
       "    <tr>\n",
       "      <th>11157</th>\n",
       "      <td>Ella Fitzgerald</td>\n",
       "      <td>4</td>\n",
       "    </tr>\n",
       "    <tr>\n",
       "      <th>74530</th>\n",
       "      <td>Cooltime Kids</td>\n",
       "      <td>0</td>\n",
       "    </tr>\n",
       "    <tr>\n",
       "      <th>104780</th>\n",
       "      <td>The Jackson 5</td>\n",
       "      <td>0</td>\n",
       "    </tr>\n",
       "  </tbody>\n",
       "</table>\n",
       "</div>"
      ],
      "text/plain": [
       "                artists  popularity\n",
       "11157   Ella Fitzgerald           4\n",
       "74530     Cooltime Kids           0\n",
       "104780    The Jackson 5           0"
      ]
     },
     "execution_count": 9,
     "metadata": {},
     "output_type": "execute_result"
    }
   ],
   "source": [
    "dataset[dataset.track_name == \"Frosty The Snowman\"][['artists', 'popularity']]"
   ]
  },
  {
   "cell_type": "markdown",
   "id": "b0b50ec4",
   "metadata": {},
   "source": [
    "Now we encode the artist feature using target encoding"
   ]
  },
  {
   "cell_type": "code",
   "execution_count": 93,
   "id": "9fd013e0",
   "metadata": {},
   "outputs": [],
   "source": [
    "from category_encoders import TargetEncoder\n",
    "te = TargetEncoder(smoothing = 1)\n",
    "transformed = te.fit_transform(dataset.artists, dataset.popularity)\n",
    "dataset['enc_artists'] = transformed"
   ]
  },
  {
   "cell_type": "markdown",
   "id": "4e28405e",
   "metadata": {},
   "source": [
    "We could do the same with track_name, but the correlation between the two features would be so hight that in fact we would end up with a map (track>>>>popularity), this happens because the number of unique track_name is almost the same as the records and so all the information would be contained in it's encoding.\n",
    "So we will not consider the 'track_name feature during the regression"
   ]
  },
  {
   "cell_type": "code",
   "execution_count": 126,
   "id": "fe3c3947",
   "metadata": {},
   "outputs": [],
   "source": [
    "transformed = te.fit_transform(dataset.track_name, dataset.popularity)\n",
    "dataset['enc_track_name'] = transformed"
   ]
  },
  {
   "cell_type": "code",
   "execution_count": 127,
   "id": "98254545",
   "metadata": {},
   "outputs": [
    {
     "data": {
      "text/plain": [
       "0.9509092165727047"
      ]
     },
     "execution_count": 127,
     "metadata": {},
     "output_type": "execute_result"
    }
   ],
   "source": [
    "dataset.enc_track_name.corr(dataset.popularity)"
   ]
  },
  {
   "cell_type": "code",
   "execution_count": 128,
   "id": "7be70fa1",
   "metadata": {},
   "outputs": [
    {
     "name": "stdout",
     "output_type": "stream",
     "text": [
      "Records: 81514\n",
      "Unique track_name: 73608\n"
     ]
    }
   ],
   "source": [
    "print('Records:', dataset.shape[0])\n",
    "print('Unique track_name:', dataset.track_name.nunique())"
   ]
  },
  {
   "cell_type": "markdown",
   "id": "4ed041d8",
   "metadata": {},
   "source": [
    "We set up the predictors array and the target value"
   ]
  },
  {
   "cell_type": "code",
   "execution_count": 129,
   "id": "90cad1f0",
   "metadata": {
    "scrolled": false
   },
   "outputs": [],
   "source": [
    "predictors = dataset.columns.values.tolist()\n",
    "predictors.remove('popularity')\n",
    "predictors.remove('track_name')\n",
    "predictors.remove('artists')\n",
    "predictors.remove('enc_track_name')\n",
    "target = 'popularity'"
   ]
  },
  {
   "cell_type": "markdown",
   "id": "24011af2",
   "metadata": {},
   "source": [
    "We define the functions for the regression"
   ]
  },
  {
   "cell_type": "code",
   "execution_count": 50,
   "id": "af42933a",
   "metadata": {},
   "outputs": [],
   "source": [
    "def ridge_fit(dataset, predictors_features, target_feature, alpha):\n",
    "    S = dataset[predictors_features].copy()\n",
    "    y = dataset[[target_feature]].copy()\n",
    "    \n",
    "    s_mean = S.mean()\n",
    "    s_std = S.std()\n",
    "    \n",
    "    S = (S - s_mean) / s_std      #normalization\n",
    "    S['intercept'] = 1\n",
    "    S = S[['intercept'] + predictors]\n",
    "    \n",
    "    penalty = alpha * np.identity(S.shape[1])\n",
    "    penalty[0][0] = 0\n",
    "    w = np.linalg.inv(S.T @ S + penalty) @ S.T @ y\n",
    "    return w, s_mean, s_std"
   ]
  },
  {
   "cell_type": "code",
   "execution_count": 31,
   "id": "37293097",
   "metadata": {},
   "outputs": [],
   "source": [
    "def ridge_predict(dataset, predictors_features, trainset_mean, trainset_std, w):\n",
    "    testset = dataset[predictors_features]\n",
    "    testset = (testset - trainset_mean) / trainset_std\n",
    "    testset['intercept'] = 1\n",
    "    testset = testset[['intercept'] + predictors_features]\n",
    "    w.index = ['intercept'] + predictors\n",
    "    predictions =  testset @ w\n",
    "    return predictions"
   ]
  },
  {
   "cell_type": "markdown",
   "id": "379d1c09",
   "metadata": {},
   "source": [
    "To find the best value for the smoothing parameter of the target encoding we run cross validation on a dataset with the 'enc_artist' feature computed wwith different values of 'smoothing' and than we evaluate how the risk change in relation to this parameter (This process has been done on multiple sets of smoothing each time more and more little, here only the last one is shown)"
   ]
  },
  {
   "cell_type": "code",
   "execution_count": 179,
   "id": "b6c2c1b8",
   "metadata": {},
   "outputs": [],
   "source": [
    "from sklearn.model_selection import KFold\n",
    "kf = KFold(n_splits = 5, shuffle = True, random_state=1)"
   ]
  },
  {
   "cell_type": "code",
   "execution_count": 182,
   "id": "1aa53de5",
   "metadata": {},
   "outputs": [],
   "source": [
    "risk = []\n",
    "smooth =[]\n",
    "for smooth_i in range(1,500,20):\n",
    "    te = TargetEncoder(smoothing = smooth_i)\n",
    "    transformed = te.fit_transform(dataset.artists, dataset.popularity)\n",
    "    dataset['enc_artists'] = transformed\n",
    "    loss = 0\n",
    "    for train_index, test_index in kf.split(dataset):\n",
    "        train, test = (dataset.iloc[train_index]), (dataset.iloc[test_index])\n",
    "        w, mean, std = ridge_fit(train, predictors, target, 100)\n",
    "        prediction = ridge_predict(test, predictors, mean, std, w)\n",
    "        loss_i = (5/dataset.shape[0]) * sum(pow((prediction.popularity - test.popularity),2))\n",
    "        loss = loss + loss_i\n",
    "\n",
    "    cv = 1/5 * loss\n",
    "    risk.append(pow(cv, 1/2))\n",
    "    smooth.append(smooth_i)"
   ]
  },
  {
   "cell_type": "code",
   "execution_count": 183,
   "id": "5f0d2893",
   "metadata": {},
   "outputs": [
    {
     "data": {
      "image/png": "[encoded data removed]",
      "text/plain": [
       "<Figure size 640x480 with 1 Axes>"
      ]
     },
     "metadata": {},
     "output_type": "display_data"
    }
   ],
   "source": [
    "plt.plot(smooth, risk)\n",
    "plt.xlabel('smoothing')\n",
    "plt.ylabel('risk')\n",
    "plt.show()"
   ]
  },
  {
   "cell_type": "markdown",
   "id": "ac7a1ce9",
   "metadata": {},
   "source": [
    "We can see that after 200 the risk become stable so we pick this value as optimal"
   ]
  },
  {
   "cell_type": "code",
   "execution_count": 169,
   "id": "ddce7c1c",
   "metadata": {},
   "outputs": [],
   "source": [
    "te = TargetEncoder(smoothing = 200)\n",
    "transformed = te.fit_transform(dataset.artists, dataset.popularity)"
   ]
  },
  {
   "cell_type": "markdown",
   "id": "9f14952e",
   "metadata": {},
   "source": [
    "Now we do the same to find the optimal alpha"
   ]
  },
  {
   "cell_type": "code",
   "execution_count": 191,
   "id": "a8dfd25f",
   "metadata": {},
   "outputs": [],
   "source": [
    "risk = []\n",
    "alphas =[]\n",
    "for alpha in range(1,200, 5):\n",
    "    loss = 0\n",
    "    for train_index, test_index in kf.split(dataset):\n",
    "        train, test = (dataset.iloc[train_index]), (dataset.iloc[test_index])\n",
    "        w, mean, std = ridge_fit(train, predictors, target, alpha)\n",
    "        prediction = ridge_predict(test, predictors, mean, std, w)\n",
    "        loss_i = (5/dataset.shape[0]) * sum(pow((prediction.popularity - test.popularity),2))\n",
    "        loss = loss + loss_i\n",
    "\n",
    "    cv = 1/5 * loss\n",
    "    risk.append(pow(cv, 1/2))\n",
    "    alphas.append(alpha)"
   ]
  },
  {
   "cell_type": "code",
   "execution_count": 192,
   "id": "cf199a79",
   "metadata": {
    "scrolled": false
   },
   "outputs": [
    {
     "data": {
      "image/png": "[encoded data removed]",
      "text/plain": [
       "<Figure size 640x480 with 1 Axes>"
      ]
     },
     "metadata": {},
     "output_type": "display_data"
    }
   ],
   "source": [
    "plt.plot(alphas, risk)\n",
    "plt.xlabel('alpha')\n",
    "plt.ylabel('risk')\n",
    "plt.show()"
   ]
  },
  {
   "cell_type": "markdown",
   "id": "713acac6",
   "metadata": {},
   "source": [
    "As we can see the optimal value for alpha is 40.\n",
    "Now using the value obtained by the anlysis for the hyperparameters (smoothing = 200 and alpha \n",
    "= 40) we use cross validation to compute the risk of our model"
   ]
  },
  {
   "cell_type": "code",
   "execution_count": 190,
   "id": "1bdc8a0e",
   "metadata": {},
   "outputs": [
    {
     "name": "stdout",
     "output_type": "stream",
     "text": [
      "8.23473366583011\n"
     ]
    }
   ],
   "source": [
    "loss = 0\n",
    "for train_index, test_index in kf.split(dataset):\n",
    "    train, test = (dataset.iloc[train_index]), (dataset.iloc[test_index])\n",
    "    w, mean, std = ridge_fit(train, predictors, target, 40)\n",
    "    prediction = ridge_predict(test, predictors, mean, std, w)\n",
    "    loss_i = (5/dataset.shape[0]) * sum(pow((prediction.popularity - test.popularity),2))\n",
    "    loss = loss + loss_i\n",
    "\n",
    "cv = 1/5 * loss\n",
    "print(pow(cv, 1/2))\n",
    "    "
   ]
  }
 ],
 "metadata": {
  "kernelspec": {
   "display_name": "Python 3 (ipykernel)",
   "language": "python",
   "name": "python3"
  },
  "language_info": {
   "codemirror_mode": {
    "name": "ipython",
    "version": 3
   },
   "file_extension": ".py",
   "mimetype": "text/x-python",
   "name": "python",
   "nbconvert_exporter": "python",
   "pygments_lexer": "ipython3",
   "version": "3.9.16"
  }
 },
 "nbformat": 4,
 "nbformat_minor": 5
}
