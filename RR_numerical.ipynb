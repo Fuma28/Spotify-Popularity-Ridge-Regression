{
 "cells": [
  {
   "cell_type": "code",
   "execution_count": 1,
   "id": "38577789",
   "metadata": {},
   "outputs": [],
   "source": [
    "import pandas as pd\n",
    "import numpy as np\n",
    "import matplotlib.pyplot as plt\n",
    "%matplotlib inline"
   ]
  },
  {
   "cell_type": "code",
   "execution_count": 2,
   "id": "25b41ac4",
   "metadata": {},
   "outputs": [],
   "source": [
    "dataset = pd.read_csv('dataset.csv')"
   ]
  },
  {
   "cell_type": "markdown",
   "id": "25b20d22",
   "metadata": {},
   "source": [
    "Firstly we create a new dataset with only the numerical features"
   ]
  },
  {
   "cell_type": "code",
   "execution_count": 3,
   "id": "7b89c2ed",
   "metadata": {},
   "outputs": [],
   "source": [
    "dataset_numeric = dataset[['track_id', 'duration_ms', 'danceability', 'energy', 'loudness', 'speechiness', 'acousticness', 'instrumentalness', 'liveness', 'valence', 'tempo', 'popularity']]"
   ]
  },
  {
   "cell_type": "markdown",
   "id": "0b9f54e9",
   "metadata": {},
   "source": [
    "We notice that there are a lot of duplicate id, probably because of the column we dropped so we try drop all the duplicate record and see if this solves"
   ]
  },
  {
   "cell_type": "code",
   "execution_count": 4,
   "id": "1a22e32e",
   "metadata": {},
   "outputs": [
    {
     "data": {
      "text/plain": [
       "6S3JlDAGk3uu3NtZbPnuhS    9\n",
       "2Ey6v4Sekh3Z0RUSISRosD    8\n",
       "2kkvB3RNRzwjFdGhaUA0tz    8\n",
       "5ZsAhuQ24mWHiduaxJqnhW    7\n",
       "08kTa3SL9sV6Iy8KLKtGql    7\n",
       "                         ..\n",
       "0kJ7eKX6aWl8X1W5Xrosn6    1\n",
       "4bYH5445Bn2w9UiGM0NxQw    1\n",
       "1T5C6ENvpM3IiYeezsK9uI    1\n",
       "34SatKRJgtXfL0bcgk7HMA    1\n",
       "2hETkH7cOfqmz3LqZDHZf5    1\n",
       "Name: track_id, Length: 89741, dtype: int64"
      ]
     },
     "execution_count": 4,
     "metadata": {},
     "output_type": "execute_result"
    }
   ],
   "source": [
    "dataset_numeric.track_id.value_counts()"
   ]
  },
  {
   "cell_type": "code",
   "execution_count": 5,
   "id": "0ea96248",
   "metadata": {},
   "outputs": [],
   "source": [
    "dataset_numeric = dataset_numeric.drop_duplicates()"
   ]
  },
  {
   "cell_type": "markdown",
   "id": "4ea70859",
   "metadata": {},
   "source": [
    "There are still some duplicates so we take one case in analysis"
   ]
  },
  {
   "cell_type": "code",
   "execution_count": 6,
   "id": "2487af21",
   "metadata": {},
   "outputs": [
    {
     "data": {
      "text/plain": [
       "0ganZjtkMwkoRvYQk7te7h    2\n",
       "3dwDBE5AMcHLxemIAEp2xb    2\n",
       "65YXrDsZER1jlPAqFS9GDH    2\n",
       "1S7hEPenrIVKVTuEjtXKz9    2\n",
       "2ivnsOi3RcEbskFvTS9zt3    2\n",
       "                         ..\n",
       "5dTHtzHFPyi8TlTtzoz1J9    1\n",
       "1m5HcIPX2T3wSoiHWhgwpA    1\n",
       "0DWrG09StYVhLbeNLwAJ5w    1\n",
       "6eYxmK9fdL4hwLnXG2zY3s    1\n",
       "2hETkH7cOfqmz3LqZDHZf5    1\n",
       "Name: track_id, Length: 89741, dtype: int64"
      ]
     },
     "execution_count": 6,
     "metadata": {},
     "output_type": "execute_result"
    }
   ],
   "source": [
    "dataset_numeric.track_id.value_counts()"
   ]
  },
  {
   "cell_type": "code",
   "execution_count": 7,
   "id": "ce7f622b",
   "metadata": {
    "scrolled": true
   },
   "outputs": [
    {
     "data": {
      "text/html": [
       "<div>\n",
       "<style scoped>\n",
       "    .dataframe tbody tr th:only-of-type {\n",
       "        vertical-align: middle;\n",
       "    }\n",
       "\n",
       "    .dataframe tbody tr th {\n",
       "        vertical-align: top;\n",
       "    }\n",
       "\n",
       "    .dataframe thead th {\n",
       "        text-align: right;\n",
       "    }\n",
       "</style>\n",
       "<table border=\"1\" class=\"dataframe\">\n",
       "  <thead>\n",
       "    <tr style=\"text-align: right;\">\n",
       "      <th></th>\n",
       "      <th>track_id</th>\n",
       "      <th>duration_ms</th>\n",
       "      <th>danceability</th>\n",
       "      <th>energy</th>\n",
       "      <th>loudness</th>\n",
       "      <th>speechiness</th>\n",
       "      <th>acousticness</th>\n",
       "      <th>instrumentalness</th>\n",
       "      <th>liveness</th>\n",
       "      <th>valence</th>\n",
       "      <th>tempo</th>\n",
       "      <th>popularity</th>\n",
       "    </tr>\n",
       "  </thead>\n",
       "  <tbody>\n",
       "    <tr>\n",
       "      <th>9167</th>\n",
       "      <td>0ganZjtkMwkoRvYQk7te7h</td>\n",
       "      <td>142131</td>\n",
       "      <td>0.768</td>\n",
       "      <td>0.52</td>\n",
       "      <td>-7.375</td>\n",
       "      <td>0.0994</td>\n",
       "      <td>0.0912</td>\n",
       "      <td>0.000001</td>\n",
       "      <td>0.435</td>\n",
       "      <td>0.776</td>\n",
       "      <td>140.109</td>\n",
       "      <td>49</td>\n",
       "    </tr>\n",
       "    <tr>\n",
       "      <th>87175</th>\n",
       "      <td>0ganZjtkMwkoRvYQk7te7h</td>\n",
       "      <td>142131</td>\n",
       "      <td>0.768</td>\n",
       "      <td>0.52</td>\n",
       "      <td>-7.375</td>\n",
       "      <td>0.0994</td>\n",
       "      <td>0.0912</td>\n",
       "      <td>0.000001</td>\n",
       "      <td>0.435</td>\n",
       "      <td>0.776</td>\n",
       "      <td>140.109</td>\n",
       "      <td>48</td>\n",
       "    </tr>\n",
       "  </tbody>\n",
       "</table>\n",
       "</div>"
      ],
      "text/plain": [
       "                     track_id  duration_ms  danceability  energy  loudness  \\\n",
       "9167   0ganZjtkMwkoRvYQk7te7h       142131         0.768    0.52    -7.375   \n",
       "87175  0ganZjtkMwkoRvYQk7te7h       142131         0.768    0.52    -7.375   \n",
       "\n",
       "       speechiness  acousticness  instrumentalness  liveness  valence  \\\n",
       "9167        0.0994        0.0912          0.000001     0.435    0.776   \n",
       "87175       0.0994        0.0912          0.000001     0.435    0.776   \n",
       "\n",
       "         tempo  popularity  \n",
       "9167   140.109          49  \n",
       "87175  140.109          48  "
      ]
     },
     "execution_count": 7,
     "metadata": {},
     "output_type": "execute_result"
    }
   ],
   "source": [
    "dataset_numeric.loc[dataset['track_id'] == dataset_numeric.track_id.value_counts().keys()[0]]"
   ]
  },
  {
   "cell_type": "markdown",
   "id": "d14d55a2",
   "metadata": {},
   "source": [
    "The only feature differentiating the two records is the popularity, it is conceptually wrong, and also impossible to learn for the model that two identical songs have different popularity score so we decide to keep only the one with higher popularity"
   ]
  },
  {
   "cell_type": "code",
   "execution_count": 8,
   "id": "8599a5ba",
   "metadata": {
    "scrolled": true
   },
   "outputs": [
    {
     "data": {
      "text/plain": [
       "5SuOikwiRyPMVoIQDJUgSV    1\n",
       "5hISmTJXBXdOes4htbUhGk    1\n",
       "062WEhWJ0tNa0CaAEuMwYB    1\n",
       "7pS3O75hJnthHr64tlpqPn    1\n",
       "6rsoBvxrlxdmqJyGPPciyq    1\n",
       "                         ..\n",
       "46s77n3x4XZqUhZfIOCax9    1\n",
       "3f1ChZHm6v4KdUaEW5y5qd    1\n",
       "2v5JTeM6hSmi5wWy7jiwrI    1\n",
       "70Jmz6ibehHG03l4Mtr9qv    1\n",
       "2hETkH7cOfqmz3LqZDHZf5    1\n",
       "Name: track_id, Length: 89741, dtype: int64"
      ]
     },
     "execution_count": 8,
     "metadata": {},
     "output_type": "execute_result"
    }
   ],
   "source": [
    "idx = dataset_numeric.groupby(['track_id'])['popularity'].transform(max) == dataset_numeric['popularity']\n",
    "dataset_numeric = dataset_numeric[idx]\n",
    "dataset_numeric.track_id.value_counts()"
   ]
  },
  {
   "cell_type": "markdown",
   "id": "23e2ee68",
   "metadata": {},
   "source": [
    "We create the predictors vector and the target variable to pass to the function"
   ]
  },
  {
   "cell_type": "code",
   "execution_count": 9,
   "id": "a26e22f9",
   "metadata": {},
   "outputs": [],
   "source": [
    "predictors = dataset_numeric.columns.values.tolist()\n",
    "predictors.remove('track_id')\n",
    "predictors.remove('popularity')\n",
    "target = 'popularity'"
   ]
  },
  {
   "cell_type": "markdown",
   "id": "78cc8d8b",
   "metadata": {},
   "source": [
    "We define the function for the regression"
   ]
  },
  {
   "cell_type": "code",
   "execution_count": 10,
   "id": "e4117fb1",
   "metadata": {},
   "outputs": [],
   "source": [
    "def ridge_fit(dataset, predictors_features, target_feature, alpha):\n",
    "    S = dataset[predictors_features].copy()\n",
    "    y = dataset[[target_feature]].copy()\n",
    "    \n",
    "    s_mean = S.mean()\n",
    "    s_std = S.std()\n",
    "    \n",
    "    S = (S - s_mean) / s_std      #normalization\n",
    "    S['intercept'] = 1\n",
    "    S = S[['intercept'] + predictors]\n",
    "    \n",
    "    \n",
    "    penalty = alpha * np.identity(S.shape[1])\n",
    "    penalty[0][0] = 0\n",
    "    w = np.linalg.inv(S.T @ S + penalty) @ S.T @ y\n",
    "    return w, s_mean, s_std"
   ]
  },
  {
   "cell_type": "code",
   "execution_count": 11,
   "id": "c94aada0",
   "metadata": {},
   "outputs": [],
   "source": [
    "def ridge_predict(dataset, predictors_features, trainset_mean, trainset_std, w):\n",
    "    testset = dataset[predictors_features]\n",
    "    testset = (testset - trainset_mean) / trainset_std\n",
    "    testset['intercept'] = 1\n",
    "    testset = testset[['intercept'] + predictors_features]\n",
    "    w.index = ['intercept'] + predictors\n",
    "    predictions =  testset @ w\n",
    "    return predictions"
   ]
  },
  {
   "cell_type": "markdown",
   "id": "b461ca4a",
   "metadata": {},
   "source": [
    "Now we try to find the optimal alpha using cross validation(this process has been repeated for various range of alpha, trying to focus on the set where the error was lower, here it is reported only the last set as example)"
   ]
  },
  {
   "cell_type": "code",
   "execution_count": 31,
   "id": "c838d683",
   "metadata": {},
   "outputs": [],
   "source": [
    "from sklearn.model_selection import KFold\n",
    "kf = KFold(n_splits = 5, shuffle = True, random_state =1)\n",
    "risk = []\n",
    "alphas =[]\n",
    "for alpha in range(1, 400, 10):\n",
    "    loss = 0\n",
    "    for train_index, test_index in kf.split(dataset_numeric):\n",
    "        train, test = (dataset_numeric.iloc[train_index]), (dataset_numeric.iloc[test_index])\n",
    "        w, mean, std = ridge_fit(train, predictors, target, alpha)\n",
    "        prediction = ridge_predict(test, predictors, mean, std, w)\n",
    "        loss_i = (5/dataset_numeric.shape[0]) * sum(pow((prediction.popularity - test.popularity),2))\n",
    "        loss = loss + loss_i\n",
    "\n",
    "    cv = 1/5 * loss\n",
    "    risk.append(pow(cv, 1/2))\n",
    "    alphas.append(alpha)"
   ]
  },
  {
   "cell_type": "code",
   "execution_count": 32,
   "id": "4fc5898f",
   "metadata": {},
   "outputs": [
    {
     "data": {
      "image/png": "[encoded data removed]",
      "text/plain": [
       "<Figure size 640x480 with 1 Axes>"
      ]
     },
     "metadata": {},
     "output_type": "display_data"
    }
   ],
   "source": [
    "plt.plot(alphas, risk)\n",
    "plt.xlabel('alpha')\n",
    "plt.ylabel('risk')\n",
    "plt.show()"
   ]
  },
  {
   "cell_type": "markdown",
   "id": "de3cbf43",
   "metadata": {},
   "source": [
    "Now we use 5-fold cross validation to extimate the risk of our predictor using alpha = 180, the best value from the previous analysis"
   ]
  },
  {
   "cell_type": "code",
   "execution_count": 34,
   "id": "5a9521dc",
   "metadata": {},
   "outputs": [
    {
     "data": {
      "text/plain": [
       "20.25566660656646"
      ]
     },
     "execution_count": 34,
     "metadata": {},
     "output_type": "execute_result"
    }
   ],
   "source": [
    "loss = 0\n",
    "for train_index, test_index in kf.split(dataset_numeric):\n",
    "    train, test = (dataset_numeric.iloc[train_index]), (dataset_numeric.iloc[test_index])\n",
    "    w, mean, std = ridge_fit(train, predictors, target, 180)\n",
    "    prediction = ridge_predict(test, predictors, mean, std, w)\n",
    "    loss_i = (5/dataset_numeric.shape[0]) * sum(pow((prediction.popularity - test.popularity),2))\n",
    "    loss = loss + loss_i\n",
    "\n",
    "cv = 1/5 * loss\n",
    "print(pow(cv, 1/2))"
   ]
  },
  {
   "cell_type": "code",
   "execution_count": null,
   "id": "96c31e23",
   "metadata": {},
   "outputs": [],
   "source": []
  }
 ],
 "metadata": {
  "kernelspec": {
   "display_name": "Python 3 (ipykernel)",
   "language": "python",
   "name": "python3"
  },
  "language_info": {
   "codemirror_mode": {
    "name": "ipython",
    "version": 3
   },
   "file_extension": ".py",
   "mimetype": "text/x-python",
   "name": "python",
   "nbconvert_exporter": "python",
   "pygments_lexer": "ipython3",
   "version": "3.9.16"
  }
 },
 "nbformat": 4,
 "nbformat_minor": 5
}
